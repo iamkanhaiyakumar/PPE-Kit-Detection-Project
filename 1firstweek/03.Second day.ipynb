{
 "cells": [
  {
   "cell_type": "markdown",
   "metadata": {},
   "source": [
    "Discuss About \n",
    "Ai,\n",
    "ML,\n",
    "Deep learning,\n",
    "Naural network,\n",
    "Tensorflow,\n",
    "Keras,"
   ]
  },
  {
   "cell_type": "markdown",
   "metadata": {},
   "source": [
    "Artificial Intelligence :-\n"
   ]
  }
 ],
 "metadata": {
  "language_info": {
   "name": "python"
  }
 },
 "nbformat": 4,
 "nbformat_minor": 2
}
