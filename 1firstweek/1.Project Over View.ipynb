{
 "cells": [
  {
   "cell_type": "markdown",
   "id": "b731a46b-ffab-4d43-91a7-6ead0f68c0b5",
   "metadata": {},
   "source": [
    "## Mentor :- Shivam Sharma\n"
   ]
  },
  {
   "cell_type": "markdown",
   "id": "8378fde8",
   "metadata": {},
   "source": [
    "## Intern :- Kanhaiya Kumar"
   ]
  },
  {
   "cell_type": "markdown",
   "id": "20091bb7-68db-40cd-b5d4-8267e4674395",
   "metadata": {},
   "source": [
    "## Project Title :- Detect the PPE Kit in Automobile Manufacturing Project"
   ]
  },
  {
   "cell_type": "markdown",
   "id": "1cf15670-8d97-4cef-a8bd-7fdb10618f25",
   "metadata": {},
   "source": [
    "## Project Statement:"
   ]
  },
  {
   "cell_type": "markdown",
   "id": "44306ae1-1adb-401c-b865-f5cd246ef85f",
   "metadata": {},
   "source": [
    "The project focuses on developing a system to enhance safety in manufacturing environments by automatically detecting Personal Protective Equipment (PPE) on workers. The system is designed to detect humans in restricted areas (No-Human Zones) and identify whether required PPE kits, such as helmets, radium jackets, boots, and goggles, are present on workers. It will also include face recognition functionality to verify worker identities. Leveraging deep learning and object detection technologies, this system aims to improve compliance with safety protocols and reduce accidents in industrial settings."
   ]
  },
  {
   "cell_type": "markdown",
   "id": "1127b14a-1384-493c-84ef-435d9231b2e3",
   "metadata": {},
   "source": [
    "## Outcomes:\n"
   ]
  },
  {
   "cell_type": "markdown",
   "id": "11bd1f66-517b-410e-bc7d-0d45261eca51",
   "metadata": {},
   "source": [
    "1. Automated Human Detection: Detect humans entering restricted No-Human Zones in real-time.\n",
    "2. PPE Kit Identification: Accurately identify if workers are wearing mandatory safety gear such as helmets, radium jackets, boots, and goggles.\n",
    "3. Enhanced Safety Protocols: Improve enforcement of safety measures through automated monitoring.\n",
    "4. Face Recognition: Verify worker identities to ensure compliance with safety regulations and access controls."
   ]
  },
  {
   "cell_type": "markdown",
   "id": "e2ae0bef-d0d9-4425-b9c0-28eac6b1e4c8",
   "metadata": {},
   "source": [
    "## Modules to be Implemented:"
   ]
  },
  {
   "cell_type": "markdown",
   "id": "458075c6-8572-4c9b-b7f3-c9177163db8a",
   "metadata": {},
   "source": [
    "\n",
    "1. Human Detection in No-Human Zones\n",
    "2. PPE Kit Identification\n",
    "3. Face Recognition\n",
    "4. System Testing and Safety Compliance Monitoring"
   ]
  },
  {
   "cell_type": "code",
   "execution_count": null,
   "id": "15c1135a-8c4d-4bab-9447-d5e18566b81f",
   "metadata": {},
   "outputs": [],
   "source": []
  }
 ],
 "metadata": {
  "kernelspec": {
   "display_name": "Python 3",
   "language": "python",
   "name": "python3"
  },
  "language_info": {
   "codemirror_mode": {
    "name": "ipython",
    "version": 3
   },
   "file_extension": ".py",
   "mimetype": "text/x-python",
   "name": "python",
   "nbconvert_exporter": "python",
   "pygments_lexer": "ipython3",
   "version": "3.12.7"
  }
 },
 "nbformat": 4,
 "nbformat_minor": 5
}
